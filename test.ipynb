{
 "cells": [
  {
   "cell_type": "code",
   "execution_count": 139,
   "metadata": {
    "collapsed": true,
    "ExecuteTime": {
     "end_time": "2023-05-06T12:38:23.700587740Z",
     "start_time": "2023-05-06T12:38:23.656883564Z"
    }
   },
   "outputs": [],
   "source": [
    "import cv2\n",
    "from imutils import paths\n",
    "import numpy as np\n",
    "\n",
    "from src.constant.app_constants import AppConstants\n",
    "from src.machine_learning.model.svm_model_training_config import SvmModelTrainingConfig\n",
    "from src.util.file_system_utils import FileSystemUtils\n",
    "from src.machine_learning.ml_utils import quantify_image, fd_hu_moments\n"
   ]
  },
  {
   "cell_type": "code",
   "execution_count": 140,
   "outputs": [],
   "source": [
    "def extract_feature(image_path):\n",
    "    image = cv2.imread(image_path)\n",
    "    image = cv2.cvtColor(image, cv2.COLOR_BGR2GRAY)\n",
    "    image = cv2.resize(image, (200, 200))\n",
    "    ft1 = quantify_image(image)\n",
    "    ft2 = fd_hu_moments(image)\n",
    "    return np.hstack([ft1, ft2])"
   ],
   "metadata": {
    "collapsed": false,
    "ExecuteTime": {
     "end_time": "2023-05-06T12:38:23.701281902Z",
     "start_time": "2023-05-06T12:38:23.700178185Z"
    }
   }
  },
  {
   "cell_type": "code",
   "execution_count": 141,
   "outputs": [],
   "source": [
    "def split_data(dataset_path) -> tuple:\n",
    "    training_images_paths = list(paths.list_images(dataset_path))\n",
    "    labels = [img_path.split(FileSystemUtils.get_os_path_separator())[-2] for img_path in training_images_paths]\n",
    "    for i in range(len(labels)):\n",
    "        label = str(labels[i])\n",
    "        if label == '0':\n",
    "            labels[i] = 5\n",
    "        elif label == '1':\n",
    "            labels[i] = 10\n",
    "        elif label == '2':\n",
    "            labels[i] = 1\n",
    "    input_features = [extract_feature(img) for img in training_images_paths]\n",
    "    return np.array(input_features), np.array(labels)"
   ],
   "metadata": {
    "collapsed": false,
    "ExecuteTime": {
     "end_time": "2023-05-06T12:38:23.702433320Z",
     "start_time": "2023-05-06T12:38:23.701774918Z"
    }
   }
  },
  {
   "cell_type": "code",
   "execution_count": 142,
   "outputs": [
    {
     "name": "stdout",
     "output_type": "stream",
     "text": [
      "[10 10 10 ...  5  5  5]\n"
     ]
    }
   ],
   "source": [
    "x_train, y_train = split_data(AppConstants.training_dataset_directory)\n",
    "print(y_train)"
   ],
   "metadata": {
    "collapsed": false,
    "ExecuteTime": {
     "end_time": "2023-05-06T12:38:37.986316430Z",
     "start_time": "2023-05-06T12:38:23.702169107Z"
    }
   }
  },
  {
   "cell_type": "code",
   "execution_count": 143,
   "outputs": [
    {
     "data": {
      "text/plain": "SVR()",
      "text/html": "<style>#sk-container-id-9 {color: black;background-color: white;}#sk-container-id-9 pre{padding: 0;}#sk-container-id-9 div.sk-toggleable {background-color: white;}#sk-container-id-9 label.sk-toggleable__label {cursor: pointer;display: block;width: 100%;margin-bottom: 0;padding: 0.3em;box-sizing: border-box;text-align: center;}#sk-container-id-9 label.sk-toggleable__label-arrow:before {content: \"▸\";float: left;margin-right: 0.25em;color: #696969;}#sk-container-id-9 label.sk-toggleable__label-arrow:hover:before {color: black;}#sk-container-id-9 div.sk-estimator:hover label.sk-toggleable__label-arrow:before {color: black;}#sk-container-id-9 div.sk-toggleable__content {max-height: 0;max-width: 0;overflow: hidden;text-align: left;background-color: #f0f8ff;}#sk-container-id-9 div.sk-toggleable__content pre {margin: 0.2em;color: black;border-radius: 0.25em;background-color: #f0f8ff;}#sk-container-id-9 input.sk-toggleable__control:checked~div.sk-toggleable__content {max-height: 200px;max-width: 100%;overflow: auto;}#sk-container-id-9 input.sk-toggleable__control:checked~label.sk-toggleable__label-arrow:before {content: \"▾\";}#sk-container-id-9 div.sk-estimator input.sk-toggleable__control:checked~label.sk-toggleable__label {background-color: #d4ebff;}#sk-container-id-9 div.sk-label input.sk-toggleable__control:checked~label.sk-toggleable__label {background-color: #d4ebff;}#sk-container-id-9 input.sk-hidden--visually {border: 0;clip: rect(1px 1px 1px 1px);clip: rect(1px, 1px, 1px, 1px);height: 1px;margin: -1px;overflow: hidden;padding: 0;position: absolute;width: 1px;}#sk-container-id-9 div.sk-estimator {font-family: monospace;background-color: #f0f8ff;border: 1px dotted black;border-radius: 0.25em;box-sizing: border-box;margin-bottom: 0.5em;}#sk-container-id-9 div.sk-estimator:hover {background-color: #d4ebff;}#sk-container-id-9 div.sk-parallel-item::after {content: \"\";width: 100%;border-bottom: 1px solid gray;flex-grow: 1;}#sk-container-id-9 div.sk-label:hover label.sk-toggleable__label {background-color: #d4ebff;}#sk-container-id-9 div.sk-serial::before {content: \"\";position: absolute;border-left: 1px solid gray;box-sizing: border-box;top: 0;bottom: 0;left: 50%;z-index: 0;}#sk-container-id-9 div.sk-serial {display: flex;flex-direction: column;align-items: center;background-color: white;padding-right: 0.2em;padding-left: 0.2em;position: relative;}#sk-container-id-9 div.sk-item {position: relative;z-index: 1;}#sk-container-id-9 div.sk-parallel {display: flex;align-items: stretch;justify-content: center;background-color: white;position: relative;}#sk-container-id-9 div.sk-item::before, #sk-container-id-9 div.sk-parallel-item::before {content: \"\";position: absolute;border-left: 1px solid gray;box-sizing: border-box;top: 0;bottom: 0;left: 50%;z-index: -1;}#sk-container-id-9 div.sk-parallel-item {display: flex;flex-direction: column;z-index: 1;position: relative;background-color: white;}#sk-container-id-9 div.sk-parallel-item:first-child::after {align-self: flex-end;width: 50%;}#sk-container-id-9 div.sk-parallel-item:last-child::after {align-self: flex-start;width: 50%;}#sk-container-id-9 div.sk-parallel-item:only-child::after {width: 0;}#sk-container-id-9 div.sk-dashed-wrapped {border: 1px dashed gray;margin: 0 0.4em 0.5em 0.4em;box-sizing: border-box;padding-bottom: 0.4em;background-color: white;}#sk-container-id-9 div.sk-label label {font-family: monospace;font-weight: bold;display: inline-block;line-height: 1.2em;}#sk-container-id-9 div.sk-label-container {text-align: center;}#sk-container-id-9 div.sk-container {/* jupyter's `normalize.less` sets `[hidden] { display: none; }` but bootstrap.min.css set `[hidden] { display: none !important; }` so we also need the `!important` here to be able to override the default hidden behavior on the sphinx rendered scikit-learn.org. See: https://github.com/scikit-learn/scikit-learn/issues/21755 */display: inline-block !important;position: relative;}#sk-container-id-9 div.sk-text-repr-fallback {display: none;}</style><div id=\"sk-container-id-9\" class=\"sk-top-container\"><div class=\"sk-text-repr-fallback\"><pre>SVR()</pre><b>In a Jupyter environment, please rerun this cell to show the HTML representation or trust the notebook. <br />On GitHub, the HTML representation is unable to render, please try loading this page with nbviewer.org.</b></div><div class=\"sk-container\" hidden><div class=\"sk-item\"><div class=\"sk-estimator sk-toggleable\"><input class=\"sk-toggleable__control sk-hidden--visually\" id=\"sk-estimator-id-13\" type=\"checkbox\" checked><label for=\"sk-estimator-id-13\" class=\"sk-toggleable__label sk-toggleable__label-arrow\">SVR</label><div class=\"sk-toggleable__content\"><pre>SVR()</pre></div></div></div></div></div>"
     },
     "execution_count": 143,
     "metadata": {},
     "output_type": "execute_result"
    }
   ],
   "source": [
    "from sklearn.tree import DecisionTreeRegressor\n",
    "from sklearn.svm import SVR\n",
    "from sklearn.pipeline import make_pipeline\n",
    "from sklearn.preprocessing import StandardScaler\n",
    "\n",
    "# Train the SVR model\n",
    "model = SVR()\n",
    "model.fit(x_train, y_train)"
   ],
   "metadata": {
    "collapsed": false,
    "ExecuteTime": {
     "end_time": "2023-05-06T12:39:02.708962342Z",
     "start_time": "2023-05-06T12:38:37.988995576Z"
    }
   }
  },
  {
   "cell_type": "code",
   "execution_count": 144,
   "outputs": [
    {
     "name": "stdout",
     "output_type": "stream",
     "text": [
      "[ 8.46490222  6.91844291  7.68573207  8.80016859  7.90681623  8.00631497\n",
      "  7.53138432  7.57709662  6.37133415  7.96452094  9.37874998  9.75004023\n",
      "  7.90681623  5.47047058  9.08438791  7.63345857  5.84117975  8.08182942\n",
      "  7.72095749  7.69057172  9.12920938  7.78426177  3.51036189  8.11539567\n",
      "  8.27330003  7.72350455  8.16104443  7.84650068  7.39085821  8.20196863\n",
      "  9.05710336  7.53138432  7.7247684   4.02915363  8.02837686  6.43475106\n",
      "  7.90381154  9.90043401  8.36365714  9.05710336  7.67515274  3.91994334\n",
      "  8.69312057  8.20932062  8.23031624  7.90381154  7.33527636  3.94106555\n",
      "  9.90001909  8.07146937  3.23402126 10.10019949  9.37874998  8.03611058\n",
      "  5.84117975  8.92028327  8.92028327  7.39986146  7.94192363  9.90043401\n",
      "  3.4137992   7.57709662  8.73659274  4.02915363  9.90000965  8.27645587\n",
      "  7.7247684   7.84650068  7.33527636  7.73548582  7.70730808  7.67515274\n",
      "  5.47047058  8.32732171  3.68548039  8.73659274  7.72095749  7.73548582\n",
      "  8.14287854  8.92028327  5.7752332   7.66412547  7.83845633  8.14287854\n",
      "  8.09648506  8.69312057  7.68573207  3.98785057  9.30002566  7.84650068\n",
      "  8.15826609  7.90681623  9.94485841  8.32732171  5.99868547  7.39085821\n",
      "  8.33367179  8.02945096  7.66412547  8.24801794  7.90681623  7.67486798\n",
      "  7.39986146  7.83845633  9.19030683  8.73659274  6.08311049  7.70730808\n",
      "  7.90381154  8.23031624  5.96066373  3.51036189  7.10397512  7.68573207\n",
      "  3.55555228  7.93183747  8.52354329  8.20932062  7.86152616  9.90001909\n",
      "  5.99868547  9.51162027  3.98785057  7.99514543  8.27330003  7.67486798\n",
      "  7.69057172  7.78426177  8.01935357  9.51162027  8.80016859  7.83845633\n",
      "  7.93817612  7.78426177  7.33527636  7.53138432  8.46490222  7.90381154\n",
      "  7.69057172  9.90043162  7.93183747  3.26457454  9.57961695  7.90381154\n",
      "  8.07146937  9.08438791  4.02915363  7.57709662  8.20196863  3.96265868\n",
      "  7.53138432  9.12920938  9.21763541  7.96452094  9.94485841  3.51036189\n",
      "  3.91994334  8.25222646  8.36365714  7.89431303  7.94192363  7.72350455\n",
      "  5.99868547  8.23031624  8.03611058  8.11539567  7.7247684   8.25222646\n",
      "  9.21763541  8.02837686  8.20196863  8.31966436  7.39085821  7.10397512\n",
      "  8.00631497  8.16104443  8.08182942  7.93183747  8.14287854  7.99514543\n",
      "  3.55555228  7.78426177  9.37874998  8.33367179  8.09648506  7.72350455\n",
      "  9.90043162 10.10019949  3.91994334  8.01935357  8.02837686  8.25222646\n",
      "  3.4137992   9.90000965  9.75004023  6.43475106  5.47047058  9.90004817\n",
      "  9.30002566  8.46490222  7.57709662  3.96265868  8.27645587  8.24801794\n",
      "  7.72350455  8.33367179  9.75004023  7.90681623  8.27645587  9.57961695\n",
      "  7.63345857  3.29372963  3.23402126  9.51162027  8.00631497  3.94106555\n",
      "  8.36365714  7.72350455  7.72095749  3.26457454  5.7752332   3.4137992\n",
      "  9.21763541  9.08438791  7.99514543  6.91844291  3.68548039  8.92401589\n",
      "  7.86152616 10.10019949  8.52354329  3.65700261  7.91189832  8.15826609\n",
      "  7.91189832  3.94106555  9.90000965  8.16104443  3.26457454  7.72350455\n",
      "  9.90004817  8.32732171  8.89870463  7.39986146  3.23402126  8.08182942\n",
      "  3.68548039  7.93817612  7.75085605  7.91189832  7.90681623  9.94485841\n",
      "  7.75085605  7.70730808  8.02945096  9.90043401  7.89431303  7.67486798\n",
      "  7.57709662  8.89870463  6.91844291  8.09648506  7.75085605  8.89870463\n",
      "  7.78426177  8.27330003  7.53138432  7.85795674  7.67515274  3.29372963\n",
      "  7.85795674  8.31966436  5.84117975  7.57709662  8.52354329  9.57961695\n",
      "  3.29372963  5.96066373  6.43475106  9.30002566  8.80016859  9.90001909\n",
      "  6.37133415  7.66412547  9.90043162  9.12920938  9.19030683  7.94192363\n",
      "  3.55555228  7.53138432  3.65700261  8.24801794  8.03611058  8.07146937\n",
      "  3.65700261  5.96066373  7.89431303  9.90004817  7.73548582  7.10397512\n",
      "  7.96452094  8.15826609  3.98785057  6.37133415  7.85795674  7.93817612\n",
      "  8.11539567  8.20932062  9.19030683  9.05710336  8.92401589  7.78426177\n",
      "  7.90381154  8.01935357  8.69312057  6.08311049  8.02945096  7.86152616\n",
      "  3.96265868  8.92401589  8.31966436  7.63345857  5.7752332   6.08311049\n",
      "  2.42793599  1.17789759  8.2298637   6.35014334  1.29071711  6.30184207\n",
      "  3.2653925   3.29556198  1.05681353  5.41366919  5.09481702  4.71074338\n",
      "  3.62346103  1.43083624  3.85036773  1.05681353  1.09991277  2.63163119\n",
      "  4.89374811  2.95964846  2.09511541  2.83699017  5.33712426  5.33952878\n",
      "  1.91055167  1.29071711  6.24578914  7.10367419  3.2653925   3.0177497\n",
      "  6.39642843  2.91279589  2.90342293  3.29556198  5.53624509  2.71332493\n",
      "  1.8212785   5.09481702  2.12850398  7.52793123  1.17958079  2.83699017\n",
      "  1.01415219  2.0714403   3.55608238  3.07244087  1.17789759  1.09991277\n",
      "  5.65901867  3.4436881   2.29065419  7.23326557  3.31507676  6.6233367\n",
      "  3.29556198  2.82705281  0.5603482   2.75854199  7.10367419  0.92610018\n",
      "  3.5147531   5.09481702  7.24794483  6.86200666  2.11915264  4.89374811\n",
      "  6.39759941  6.9948272   2.09511541  6.67855555  5.53624509  5.33952878\n",
      "  2.63163119  2.93035695  2.12850398  6.67855555  7.52793123  6.73136753\n",
      "  1.87116108  6.53125376  5.74370322  1.09991277  2.29065419  3.31460359\n",
      "  3.29671512  3.36746296  3.4436881   6.01783076  6.76276268  1.8212785\n",
      "  3.29671512  4.89663563  2.82269637  2.90342293  4.86024098  2.95964846\n",
      "  5.74370322  1.8212785   1.17958079  6.01783076  5.99139558  6.67855555\n",
      "  4.71074338  3.0177497   3.26084141  6.9948272   0.8206777   6.71475916\n",
      "  5.40204848  6.9948272   6.99391479  1.01415219  1.91055167  5.72288305\n",
      "  2.95964846  2.75854199  6.02382897  4.75225589  5.33952878  3.49419917\n",
      "  6.02382897  2.82269637  3.12633246  3.62346103  2.11915264  5.65901867\n",
      "  6.74500373  8.44516369  3.11661192  1.17789759  3.62346103  3.55608238\n",
      "  1.17958079  1.43083624  7.06370549  4.75225589  6.99391479  7.10367419\n",
      "  7.52793123  3.4436881   5.41366919  6.54615797  2.82705281  3.0177497\n",
      "  3.20763207  6.35014334  6.01783076  3.20763207  5.72288305  3.49419917\n",
      "  1.43083624  6.28882752  5.42911138  7.06370549  6.34007081  3.36746296\n",
      "  6.86200666  6.15313369  6.49505306  2.83699017  6.39642843  6.24578914\n",
      "  8.2298637   1.62047425  6.39759941  1.01415219  2.11915264  5.41366919\n",
      "  7.02269645  2.71332493  6.28882752  5.40204848  6.99391479  0.5603482\n",
      "  6.02382897  3.36142155  6.73136753  2.71332493  6.30184207  5.65901867\n",
      "  1.45531715  2.42793599  6.34007081  0.5603482   2.63163119  3.20763207\n",
      "  3.36142155  3.26084141  2.90342293  6.90869099  2.82269637  0.92610018\n",
      "  3.36746296  3.58683596  5.99139558  3.85036773  2.82705281  4.86024098\n",
      "  3.07244087  3.31460359  7.24794483  3.12633246  1.99206148  1.87116108\n",
      "  2.75854199  2.0714403   2.12850398  7.06370549  1.45531715  6.49505306\n",
      "  6.34007081  8.44516369  3.11661192  5.42911138  4.86024098  1.62047425\n",
      "  2.24794357  3.12633246  3.07244087  4.89663563  6.24578914  3.36142155\n",
      "  4.75225589  7.23326557  7.24794483  6.49505306  3.26084141  3.10775096\n",
      "  3.55608238  6.35014334  3.29671512  5.74370322  3.58683596  3.31507676\n",
      "  5.99139558  6.28882752  3.10775096  2.24794357  2.91279589  3.73907779\n",
      "  3.18165004  3.11661192  3.2653925   2.93035695  3.18165004  5.40204848\n",
      "  1.99206148  2.0714403   6.96631096  0.92610018  6.39759941  5.33712426\n",
      "  4.89374811  5.42911138  6.76276268  1.91055167  4.89663563  3.31507676\n",
      "  5.33712426  1.99206148  3.85036773  6.76276268  8.2298637   2.09511541\n",
      "  3.58683596  6.86200666  4.71074338  6.53125376  2.93035695  6.73136753\n",
      "  2.29065419  2.91279589  6.15313369  1.45531715  2.42793599  8.44516369\n",
      "  7.23326557  5.53624509  6.30184207  6.39642843  1.29071711  1.87116108\n",
      "  3.49419917  3.18165004  3.10775096  1.62047425  3.31460359  0.8206777\n",
      "  2.24794357  0.8206777   6.15313369  1.05681353  6.53125376  5.72288305\n",
      "  5.13857665  4.15915166  2.22897546  4.53128078  4.15915166  4.90009409\n",
      "  5.66585463  4.85303009  3.28664759  4.57458866  3.92913312  4.85303009\n",
      "  3.63133395  4.3563617   4.77399926  4.60235823  3.92913312  4.86160102\n",
      "  4.53128078  4.90009409  5.29516223  4.65881147  4.3196017   3.92913312\n",
      "  4.15915166  3.92913312  4.65881147  4.56171298  3.34838316  4.53128078\n",
      "  4.49679873  3.63133395  5.13857665  5.29516223  4.56171298  5.66585463\n",
      "  4.65881147  5.66585463  4.90009409  2.22897546  2.22897546  5.29516223\n",
      "  4.60235823  4.86160102  2.94651891  4.53128078  4.85303009  2.85619365\n",
      "  3.28664759  4.3563617   4.90964046  3.55444087  4.3196017   3.92913312\n",
      "  4.49760261  3.12398373  4.53128078  2.22897546  4.77399926  4.53128078\n",
      "  4.49679873  2.22897546  4.53128078  4.53128078  5.66585463  4.3563617\n",
      "  3.43362371  4.56171298  3.43362371  3.34838316  4.15915166  3.34838316\n",
      "  3.12398373  3.63133395  4.90964046  3.43362371  3.55444087  4.90964046\n",
      "  3.28664759  4.15915166  2.94651891  4.60235823  4.86160102  3.12398373\n",
      "  4.77399926  4.49679873  4.15915166  3.34838316  4.57458866  4.3196017\n",
      "  2.85619365  4.15915166  5.66585463  3.28664759  4.57458866  5.13857665\n",
      "  2.22897546  2.22897546  2.94651891  4.65881147  3.55444087  4.49760261\n",
      "  4.90964046  4.90009409  3.43362371  5.66585463  4.49679873  4.49760261\n",
      "  4.85303009  2.22897546  4.57458866  4.77399926  4.56171298  5.66585463\n",
      "  2.85619365  5.29516223  3.63133395  2.85619365  3.92913312  4.60235823\n",
      "  4.15915166  3.92913312  4.49760261  3.92913312  4.86160102  5.13857665\n",
      "  4.3563617   4.3196017   5.66585463  3.12398373  2.94651891  3.55444087]\n"
     ]
    }
   ],
   "source": [
    "from sklearn.metrics import accuracy_score\n",
    "\n",
    "x_test, y_test = split_data(AppConstants.testing_dataset_directory)\n",
    "y_pred = model.predict(x_test)\n",
    "print(y_pred)"
   ],
   "metadata": {
    "collapsed": false,
    "ExecuteTime": {
     "end_time": "2023-05-06T12:39:41.744379434Z",
     "start_time": "2023-05-06T12:39:02.699877840Z"
    }
   }
  },
  {
   "cell_type": "code",
   "execution_count": 145,
   "outputs": [
    {
     "name": "stdout",
     "output_type": "stream",
     "text": [
      "[8, 7, 8, 9, 8, 8, 8, 8, 6, 8, 9, 10, 8, 5, 9, 8, 6, 8, 8, 8, 9, 8, 4, 8, 8, 8, 8, 8, 7, 8, 9, 8, 8, 4, 8, 6, 8, 10, 8, 9, 8, 4, 9, 8, 8, 8, 7, 4, 10, 8, 3, 10, 9, 8, 6, 9, 9, 7, 8, 10, 3, 8, 9, 4, 10, 8, 8, 8, 7, 8, 8, 8, 5, 8, 4, 9, 8, 8, 8, 9, 6, 8, 8, 8, 8, 9, 8, 4, 9, 8, 8, 8, 10, 8, 6, 7, 8, 8, 8, 8, 8, 8, 7, 8, 9, 9, 6, 8, 8, 8, 6, 4, 7, 8, 4, 8, 9, 8, 8, 10, 6, 10, 4, 8, 8, 8, 8, 8, 8, 10, 9, 8, 8, 8, 7, 8, 8, 8, 8, 10, 8, 3, 10, 8, 8, 9, 4, 8, 8, 4, 8, 9, 9, 8, 10, 4, 4, 8, 8, 8, 8, 8, 6, 8, 8, 8, 8, 8, 9, 8, 8, 8, 7, 7, 8, 8, 8, 8, 8, 8, 4, 8, 9, 8, 8, 8, 10, 10, 4, 8, 8, 8, 3, 10, 10, 6, 5, 10, 9, 8, 8, 4, 8, 8, 8, 8, 10, 8, 8, 10, 8, 3, 3, 10, 8, 4, 8, 8, 8, 3, 6, 3, 9, 9, 8, 7, 4, 9, 8, 10, 9, 4, 8, 8, 8, 4, 10, 8, 3, 8, 10, 8, 9, 7, 3, 8, 4, 8, 8, 8, 8, 10, 8, 8, 8, 10, 8, 8, 8, 9, 7, 8, 8, 9, 8, 8, 8, 8, 8, 3, 8, 8, 6, 8, 9, 10, 3, 6, 6, 9, 9, 10, 6, 8, 10, 9, 9, 8, 4, 8, 4, 8, 8, 8, 4, 6, 8, 10, 8, 7, 8, 8, 4, 6, 8, 8, 8, 8, 9, 9, 9, 8, 8, 8, 9, 6, 8, 8, 4, 9, 8, 8, 6, 6, 2, 1, 8, 6, 1, 6, 3, 3, 1, 5, 5, 5, 4, 1, 4, 1, 1, 3, 5, 3, 2, 3, 5, 5, 2, 1, 6, 7, 3, 3, 6, 3, 3, 3, 6, 3, 2, 5, 2, 8, 1, 3, 1, 2, 4, 3, 1, 1, 6, 3, 2, 7, 3, 7, 3, 3, 1, 3, 7, 1, 4, 5, 7, 7, 2, 5, 6, 7, 2, 7, 6, 5, 3, 3, 2, 7, 8, 7, 2, 7, 6, 1, 2, 3, 3, 3, 3, 6, 7, 2, 3, 5, 3, 3, 5, 3, 6, 2, 1, 6, 6, 7, 5, 3, 3, 7, 1, 7, 5, 7, 7, 1, 2, 6, 3, 3, 6, 5, 5, 3, 6, 3, 3, 4, 2, 6, 7, 8, 3, 1, 4, 4, 1, 1, 7, 5, 7, 7, 8, 3, 5, 7, 3, 3, 3, 6, 6, 3, 6, 3, 1, 6, 5, 7, 6, 3, 7, 6, 6, 3, 6, 6, 8, 2, 6, 1, 2, 5, 7, 3, 6, 5, 7, 1, 6, 3, 7, 3, 6, 6, 1, 2, 6, 1, 3, 3, 3, 3, 3, 7, 3, 1, 3, 4, 6, 4, 3, 5, 3, 3, 7, 3, 2, 2, 3, 2, 2, 7, 1, 6, 6, 8, 3, 5, 5, 2, 2, 3, 3, 5, 6, 3, 5, 7, 7, 6, 3, 3, 4, 6, 3, 6, 4, 3, 6, 6, 3, 2, 3, 4, 3, 3, 3, 3, 3, 5, 2, 2, 7, 1, 6, 5, 5, 5, 7, 2, 5, 3, 5, 2, 4, 7, 8, 2, 4, 7, 5, 7, 3, 7, 2, 3, 6, 1, 2, 8, 7, 6, 6, 6, 1, 2, 3, 3, 3, 2, 3, 1, 2, 1, 6, 1, 7, 6, 5, 4, 2, 5, 4, 5, 6, 5, 3, 5, 4, 5, 4, 4, 5, 5, 4, 5, 5, 5, 5, 5, 4, 4, 4, 4, 5, 5, 3, 5, 4, 4, 5, 5, 5, 6, 5, 6, 5, 2, 2, 5, 5, 5, 3, 5, 5, 3, 3, 4, 5, 4, 4, 4, 4, 3, 5, 2, 5, 5, 4, 2, 5, 5, 6, 4, 3, 5, 3, 3, 4, 3, 3, 4, 5, 3, 4, 5, 3, 4, 3, 5, 5, 3, 5, 4, 4, 3, 5, 4, 3, 4, 6, 3, 5, 5, 2, 2, 3, 5, 4, 4, 5, 5, 3, 6, 4, 4, 5, 2, 5, 5, 5, 6, 3, 5, 4, 3, 4, 5, 4, 4, 4, 4, 5, 5, 4, 4, 6, 3, 3, 4]\n"
     ]
    }
   ],
   "source": [
    "y_pred = [int(round(e)) for e in y_pred]\n",
    "print(y_pred)"
   ],
   "metadata": {
    "collapsed": false,
    "ExecuteTime": {
     "end_time": "2023-05-06T12:39:41.755240915Z",
     "start_time": "2023-05-06T12:39:41.751019664Z"
    }
   }
  },
  {
   "cell_type": "code",
   "execution_count": 146,
   "outputs": [
    {
     "data": {
      "text/plain": "<Figure size 432x288 with 2 Axes>",
      "image/png": "[encoded data removed]"
     },
     "metadata": {
      "needs_background": "light"
     },
     "output_type": "display_data"
    }
   ],
   "source": [
    "import seaborn as sns\n",
    "from matplotlib import pyplot as plt\n",
    "\n",
    "def get_col(e):\n",
    "    if e==1:\n",
    "        return 0\n",
    "    elif e==5:\n",
    "        return 1\n",
    "    elif e==10:\n",
    "        return 2\n",
    "\n",
    "data = np.zeros(shape=(3, 10))\n",
    "totals=np.zeros(shape=3)\n",
    "for i in range(len(y_test)):\n",
    "    col=get_col(y_test[i])\n",
    "    data[col][y_pred[i]-1] += 1\n",
    "    totals[col]+=1\n",
    "for i in range(3):\n",
    "    for j in range(10):\n",
    "        tot=totals[i]\n",
    "        data[i][j]=(data[i][j]/tot)*100\n",
    "\n",
    "colormap = sns.color_palette(\"Blues_r\")\n",
    "ax = sns.heatmap(data, cmap=colormap, yticklabels=[\"Normal\", \"Benign\", \"Malignant\"], xticklabels=[str(i+1) for i in range(10)])\n",
    "plt.show()"
   ],
   "metadata": {
    "collapsed": false,
    "ExecuteTime": {
     "end_time": "2023-05-06T12:39:41.936441763Z",
     "start_time": "2023-05-06T12:39:41.758940307Z"
    }
   }
  },
  {
   "cell_type": "code",
   "execution_count": 146,
   "outputs": [],
   "source": [],
   "metadata": {
    "collapsed": false,
    "ExecuteTime": {
     "end_time": "2023-05-06T12:39:41.941066981Z",
     "start_time": "2023-05-06T12:39:41.938003431Z"
    }
   }
  }
 ],
 "metadata": {
  "kernelspec": {
   "display_name": "Python 3",
   "language": "python",
   "name": "python3"
  },
  "language_info": {
   "codemirror_mode": {
    "name": "ipython",
    "version": 2
   },
   "file_extension": ".py",
   "mimetype": "text/x-python",
   "name": "python",
   "nbconvert_exporter": "python",
   "pygments_lexer": "ipython2",
   "version": "2.7.6"
  }
 },
 "nbformat": 4,
 "nbformat_minor": 0
}
